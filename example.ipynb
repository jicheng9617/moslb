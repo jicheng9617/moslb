{
 "cells": [
  {
   "cell_type": "code",
   "execution_count": 1,
   "metadata": {},
   "outputs": [],
   "source": [
    "import numpy as np \n",
    "\n",
    "from oracle import simulator_moslb\n",
    "from moslb import moslb"
   ]
  },
  {
   "cell_type": "code",
   "execution_count": 2,
   "metadata": {},
   "outputs": [],
   "source": [
    "m = 3 # number of objectives\n",
    "d = 5 # number of context's dimension\n",
    "K = 5 * d # number of arms at each round"
   ]
  },
  {
   "cell_type": "code",
   "execution_count": 3,
   "metadata": {},
   "outputs": [],
   "source": [
    "env = simulator_moslb(num_obj=m,num_dim=d,num_arm=K,vary_context=0)\n",
    "env.reset()"
   ]
  },
  {
   "cell_type": "code",
   "execution_count": 4,
   "metadata": {},
   "outputs": [],
   "source": [
    "alg = moslb(num_dim=d, num_obj=m)\n",
    "alg.reset()"
   ]
  },
  {
   "cell_type": "code",
   "execution_count": 5,
   "metadata": {},
   "outputs": [
    {
     "name": "stdout",
     "output_type": "stream",
     "text": [
      "{'#arms': 25,\n",
      " '#dimension': 5,\n",
      " '#objective': 3,\n",
      " '#optimal arms': 8,\n",
      " 'Regret for each arm': array([[0.0183518 ],\n",
      "       [0.        ],\n",
      "       [0.30599897],\n",
      "       [0.30822368],\n",
      "       [0.        ],\n",
      "       [0.        ],\n",
      "       [0.15034161],\n",
      "       [0.24484336],\n",
      "       [0.44041407],\n",
      "       [0.08867548],\n",
      "       [0.        ],\n",
      "       [0.        ],\n",
      "       [0.07888076],\n",
      "       [0.02915595],\n",
      "       [0.01112341],\n",
      "       [0.11823009],\n",
      "       [0.32621685],\n",
      "       [0.08795753],\n",
      "       [0.        ],\n",
      "       [0.32909967],\n",
      "       [0.16186672],\n",
      "       [0.14721088],\n",
      "       [0.36525536],\n",
      "       [0.        ],\n",
      "       [0.        ]])}\n",
      "Round: 99, regret: 5.6094\n",
      "Round: 199, regret: 9.4394\n",
      "Round: 299, regret: 12.1102\n",
      "Round: 399, regret: 13.9608\n",
      "Round: 499, regret: 18.1053\n",
      "Round: 599, regret: 19.1664\n",
      "Round: 699, regret: 20.2034\n",
      "Round: 799, regret: 20.6104\n",
      "Round: 899, regret: 20.9952\n",
      "Round: 999, regret: 21.5035\n"
     ]
    }
   ],
   "source": [
    "T = 1000\n",
    "R = 0 \n",
    "R_his = [0]\n",
    "\n",
    "for t in range(T): \n",
    "    X = env.observe_context(verbose=1)\n",
    "    a_t = alg.take_action(X, alpha=.1)\n",
    "\n",
    "    r_t = env.get_reward(a_t)\n",
    "    reg_t = env.regret(a_t)\n",
    "    alg.update_params(arm_context=X[a_t], reward=r_t)\n",
    "\n",
    "    R += reg_t\n",
    "    R_his.append(R)\n",
    "    if (t+1)%100 == 0: print('Round: {:d}, regret: {:.4f}'.format(t, R))"
   ]
  },
  {
   "cell_type": "code",
   "execution_count": 6,
   "metadata": {},
   "outputs": [
    {
     "data": {
      "text/plain": [
       "[<matplotlib.lines.Line2D at 0x265426509a0>]"
      ]
     },
     "execution_count": 6,
     "metadata": {},
     "output_type": "execute_result"
    },
    {
     "data": {
      "image/png": "[encoded data removed]",
      "text/plain": [
       "<Figure size 640x480 with 1 Axes>"
      ]
     },
     "metadata": {},
     "output_type": "display_data"
    }
   ],
   "source": [
    "import matplotlib as mpl\n",
    "import matplotlib.pyplot as plt\n",
    "\n",
    "plt.figure()\n",
    "plt.plot(range(T+1), R_his, color='r', linestyle='-', label=\"P-UCB\")"
   ]
  },
  {
   "cell_type": "markdown",
   "metadata": {},
   "source": [
    "## Example for MOSLB-PL\n",
    "Running with five objectives under MPL-PL order $\\{\\{0,1,2\\},\\{3,4\\}\\}$."
   ]
  },
  {
   "cell_type": "code",
   "execution_count": 7,
   "metadata": {},
   "outputs": [],
   "source": [
    "from oracle import simulator_moslb_pl\n",
    "from moslb import moslb_pl"
   ]
  },
  {
   "cell_type": "code",
   "execution_count": 8,
   "metadata": {},
   "outputs": [],
   "source": [
    "pl = [[0,1,2],[3,4]]"
   ]
  },
  {
   "cell_type": "code",
   "execution_count": 9,
   "metadata": {},
   "outputs": [],
   "source": [
    "env = simulator_moslb_pl(num_dim=d,priority_level=pl,num_arm=K,vary_context=1)"
   ]
  },
  {
   "cell_type": "code",
   "execution_count": 10,
   "metadata": {},
   "outputs": [],
   "source": [
    "alg = moslb_pl(num_dim=d, priority_level=pl)"
   ]
  },
  {
   "cell_type": "code",
   "execution_count": 11,
   "metadata": {},
   "outputs": [
    {
     "name": "stdout",
     "output_type": "stream",
     "text": [
      "Round: 99, regret: [22.37970424  1.23266528]\n",
      "Round: 199, regret: [43.57381106  1.8220185 ]\n",
      "Round: 299, regret: [62.75200995  3.69322103]\n",
      "Round: 399, regret: [84.01551784  6.22380511]\n",
      "Round: 499, regret: [85.47162247  7.62481822]\n",
      "Round: 599, regret: [88.54014222  8.46280279]\n",
      "Round: 699, regret: [90.45024796  9.92304402]\n",
      "Round: 799, regret: [91.56993213 10.61303482]\n",
      "Round: 899, regret: [92.7733859  10.75199959]\n",
      "Round: 999, regret: [93.06084207 11.490219  ]\n",
      "Round: 1099, regret: [93.53601021 11.70849262]\n",
      "Round: 1199, regret: [94.05877794 12.3760413 ]\n",
      "Round: 1299, regret: [95.00981207 12.60179228]\n",
      "Round: 1399, regret: [95.51924348 12.75676528]\n",
      "Round: 1499, regret: [96.35224197 12.85847688]\n",
      "Round: 1599, regret: [97.49563428 13.21907127]\n",
      "Round: 1699, regret: [98.52783469 13.50342237]\n",
      "Round: 1799, regret: [99.16110925 14.02115873]\n",
      "Round: 1899, regret: [100.40764639  14.06730534]\n",
      "Round: 1999, regret: [101.40782623  14.39907542]\n",
      "Round: 2099, regret: [102.06163093  15.05465449]\n",
      "Round: 2199, regret: [102.64650565  15.89263856]\n",
      "Round: 2299, regret: [103.33904339  15.95243159]\n",
      "Round: 2399, regret: [103.91583932  16.14538811]\n",
      "Round: 2499, regret: [104.24303698  16.96076127]\n",
      "Round: 2599, regret: [104.59687199  17.225226  ]\n",
      "Round: 2699, regret: [105.01766301  17.84916437]\n",
      "Round: 2799, regret: [105.37499925  18.18978996]\n",
      "Round: 2899, regret: [105.74265736  18.91459237]\n",
      "Round: 2999, regret: [105.94674339  19.31097402]\n"
     ]
    }
   ],
   "source": [
    "T = 3000\n",
    "R = np.zeros((len(pl),))\n",
    "epsilon = 5 * d**(2/3) * (T)**(-1/3)\n",
    "\n",
    "env.reset()\n",
    "alg.reset()\n",
    "\n",
    "for t in range(T): \n",
    "    X = env.observe_context(verbose=0)\n",
    "    a_t = alg.take_action(X, epsilon=epsilon, alpha=.1)\n",
    "\n",
    "    r_t = env.get_reward(a_t)\n",
    "    reg_t = env.regret(a_t)\n",
    "    alg.update_params(arm_context=X[a_t], reward=r_t)\n",
    "\n",
    "    R += reg_t\n",
    "    if (t+1)%100 == 0: print('Round: {:d}, regret: {}'.format(t, R))"
   ]
  },
  {
   "cell_type": "markdown",
   "metadata": {},
   "source": [
    "## Example for MOSLB-PC\n",
    "Running with five objectives under MPL-PC relation $\\{\\{0,1\\},\\{2,3,4\\}\\}$."
   ]
  },
  {
   "cell_type": "code",
   "execution_count": 12,
   "metadata": {},
   "outputs": [],
   "source": [
    "from oracle import simulator_moslb_pc\n",
    "from moslb import moslb_pc"
   ]
  },
  {
   "cell_type": "code",
   "execution_count": 13,
   "metadata": {},
   "outputs": [],
   "source": [
    "pc = [[0,1],[2,3,4]]"
   ]
  },
  {
   "cell_type": "code",
   "execution_count": 14,
   "metadata": {},
   "outputs": [],
   "source": [
    "env = simulator_moslb_pc(num_dim=d,priority_chain=pc,num_arm=K,vary_context=0)\n",
    "env.reset()"
   ]
  },
  {
   "cell_type": "code",
   "execution_count": 15,
   "metadata": {},
   "outputs": [],
   "source": [
    "alg = moslb_pc(num_dim=d, priority_chain=pc)"
   ]
  },
  {
   "cell_type": "code",
   "execution_count": 16,
   "metadata": {},
   "outputs": [
    {
     "name": "stdout",
     "output_type": "stream",
     "text": [
      "Round: 99, regret: [16.   29.43  1.05]\n",
      "Round: 199, regret: [33.29 53.06  2.82]\n",
      "Round: 299, regret: [52.4  80.85  5.06]\n",
      "Round: 399, regret: [ 68.19 106.49   5.06]\n",
      "Round: 499, regret: [ 85.08 127.05   6.04]\n",
      "Round: 599, regret: [101.52 151.     7.28]\n",
      "Round: 699, regret: [117.01 176.81   8.  ]\n",
      "Round: 799, regret: [124.27 186.58   8.92]\n",
      "Round: 899, regret: [131.01 195.36   9.91]\n",
      "Round: 999, regret: [131.01 195.36   9.91]\n",
      "Round: 1099, regret: [131.01 195.36   9.91]\n",
      "Round: 1199, regret: [135.23 203.96  10.24]\n",
      "Round: 1299, regret: [137.05 207.2   10.24]\n",
      "Round: 1399, regret: [137.05 207.2   10.24]\n",
      "Round: 1499, regret: [137.05 207.2   10.24]\n",
      "Round: 1599, regret: [137.05 207.2   10.24]\n",
      "Round: 1699, regret: [137.05 207.2   10.24]\n",
      "Round: 1799, regret: [137.05 207.2   10.24]\n",
      "Round: 1899, regret: [137.05 207.2   10.24]\n",
      "Round: 1999, regret: [137.05 207.2   10.24]\n",
      "Round: 2099, regret: [137.05 207.2   10.24]\n",
      "Round: 2199, regret: [137.05 207.2   10.24]\n",
      "Round: 2299, regret: [137.05 207.2   10.24]\n",
      "Round: 2399, regret: [137.05 207.2   10.24]\n",
      "Round: 2499, regret: [137.05 207.2   10.24]\n",
      "Round: 2599, regret: [137.05 207.2   10.24]\n",
      "Round: 2699, regret: [137.05 207.2   10.24]\n",
      "Round: 2799, regret: [137.05 207.2   10.24]\n",
      "Round: 2899, regret: [137.05 207.2   10.24]\n",
      "Round: 2999, regret: [137.05 207.2   10.24]\n"
     ]
    }
   ],
   "source": [
    "T = 3000\n",
    "R = np.zeros((env.c_max,))\n",
    "epsilon = 5 * d**(2/3) * (T)**(-1/3)\n",
    "\n",
    "env.reset()\n",
    "alg.reset()\n",
    "\n",
    "for t in range(T): \n",
    "    X = env.observe_context(verbose=0)\n",
    "    a_t = alg.take_action(X, epsilon=epsilon, alpha=.1)\n",
    "\n",
    "    r_t = env.get_reward(a_t)\n",
    "    reg_t = env.regret(a_t)\n",
    "    alg.update_params(arm_context=X[a_t], reward=r_t)\n",
    "\n",
    "    R += reg_t\n",
    "    if (t+1)%100 == 0: print('Round: {:d}, regret: {}'.format(t, R))"
   ]
  },
  {
   "cell_type": "code",
   "execution_count": null,
   "metadata": {},
   "outputs": [],
   "source": []
  }
 ],
 "metadata": {
  "kernelspec": {
   "display_name": "cs5489",
   "language": "python",
   "name": "python3"
  },
  "language_info": {
   "codemirror_mode": {
    "name": "ipython",
    "version": 3
   },
   "file_extension": ".py",
   "mimetype": "text/x-python",
   "name": "python",
   "nbconvert_exporter": "python",
   "pygments_lexer": "ipython3",
   "version": "3.9.16"
  }
 },
 "nbformat": 4,
 "nbformat_minor": 2
}
