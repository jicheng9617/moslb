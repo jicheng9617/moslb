{
 "cells": [
  {
   "cell_type": "code",
   "execution_count": 1,
   "metadata": {},
   "outputs": [],
   "source": [
    "import numpy as np \n",
    "\n",
    "from oracle import simulator_moslb\n",
    "from moslb import moslb"
   ]
  },
  {
   "cell_type": "code",
   "execution_count": 2,
   "metadata": {},
   "outputs": [],
   "source": [
    "m = 3 # number of objectives\n",
    "d = 5 # number of context's dimension\n",
    "K = 5 * d # number of arms at each round"
   ]
  },
  {
   "cell_type": "code",
   "execution_count": 3,
   "metadata": {},
   "outputs": [],
   "source": [
    "env = simulator_moslb(num_obj=m,num_dim=d,vary_context=0)\n",
    "env.reset()"
   ]
  },
  {
   "cell_type": "code",
   "execution_count": 4,
   "metadata": {},
   "outputs": [],
   "source": [
    "alg = moslb(num_dim=d, num_obj=m)\n",
    "alg.reset()"
   ]
  },
  {
   "cell_type": "code",
   "execution_count": 5,
   "metadata": {},
   "outputs": [
    {
     "name": "stdout",
     "output_type": "stream",
     "text": [
      "{'#arms': 20,\n",
      " '#dimension': 5,\n",
      " '#objective': 3,\n",
      " '#optimal arms': 13,\n",
      " 'Regret for each arm': array([[0.        ],\n",
      "       [0.01435222],\n",
      "       [0.        ],\n",
      "       [0.        ],\n",
      "       [0.        ],\n",
      "       [0.        ],\n",
      "       [0.02030964],\n",
      "       [0.01308019],\n",
      "       [0.01800866],\n",
      "       [0.        ],\n",
      "       [0.        ],\n",
      "       [0.        ],\n",
      "       [0.        ],\n",
      "       [0.        ],\n",
      "       [0.        ],\n",
      "       [0.        ],\n",
      "       [0.14722331],\n",
      "       [0.01923994],\n",
      "       [0.        ],\n",
      "       [0.03801384]])}\n",
      "Round: 99, regret: 1.1500\n",
      "Round: 199, regret: 1.7789\n",
      "Round: 299, regret: 2.2595\n",
      "Round: 399, regret: 2.4640\n",
      "Round: 499, regret: 2.5531\n",
      "Round: 599, regret: 2.9712\n",
      "Round: 699, regret: 2.9712\n",
      "Round: 799, regret: 3.1020\n",
      "Round: 899, regret: 3.1805\n",
      "Round: 999, regret: 3.2459\n"
     ]
    }
   ],
   "source": [
    "T = 1000\n",
    "R = 0 \n",
    "R_his = [0]\n",
    "\n",
    "for t in range(T): \n",
    "    X = env.observe_context(num_arms=20, verbose=1)\n",
    "    a_t = alg.take_action(X, alpha=.1)\n",
    "\n",
    "    r_t = env.get_reward(X[a_t])\n",
    "    reg_t = env.regret(X[a_t])\n",
    "    alg.update_params(arm=X[a_t], reward=r_t)\n",
    "\n",
    "    R += reg_t\n",
    "    R_his.append(R)\n",
    "    if (t+1)%100 == 0: print('Round: {:d}, regret: {:.4f}'.format(t, R))"
   ]
  },
  {
   "cell_type": "code",
   "execution_count": 6,
   "metadata": {},
   "outputs": [
    {
     "data": {
      "text/plain": [
       "[<matplotlib.lines.Line2D at 0x22404c57730>]"
      ]
     },
     "execution_count": 6,
     "metadata": {},
     "output_type": "execute_result"
    },
    {
     "data": {
      "image/png": "[encoded data removed]",
      "text/plain": [
       "<Figure size 640x480 with 1 Axes>"
      ]
     },
     "metadata": {},
     "output_type": "display_data"
    }
   ],
   "source": [
    "import matplotlib as mpl\n",
    "import matplotlib.pyplot as plt\n",
    "\n",
    "plt.figure()\n",
    "plt.plot(range(T+1), R_his, color='r', linestyle='-', label=\"P-UCB\")"
   ]
  },
  {
   "cell_type": "markdown",
   "metadata": {},
   "source": [
    "## Example for MOSLB-PL\n",
    "Running with five objectives under MPL-PL order $\\{\\{0,1,2\\},\\{3,4\\}\\}$."
   ]
  },
  {
   "cell_type": "code",
   "execution_count": 7,
   "metadata": {},
   "outputs": [],
   "source": [
    "from oracle import simulator_moslb_pl\n",
    "from moslb import moslb_pl"
   ]
  },
  {
   "cell_type": "code",
   "execution_count": 8,
   "metadata": {},
   "outputs": [],
   "source": [
    "pl = [[0,1,2],[3,4]]"
   ]
  },
  {
   "cell_type": "code",
   "execution_count": 9,
   "metadata": {},
   "outputs": [],
   "source": [
    "env = simulator_moslb_pl(num_dim=d,priority_level=pl,vary_context=1)"
   ]
  },
  {
   "cell_type": "code",
   "execution_count": 10,
   "metadata": {},
   "outputs": [],
   "source": [
    "alg = moslb_pl(num_dim=d, priority_level=pl)"
   ]
  },
  {
   "cell_type": "code",
   "execution_count": 11,
   "metadata": {},
   "outputs": [
    {
     "name": "stdout",
     "output_type": "stream",
     "text": [
      "Round: 99, regret: [20.09967265 12.01259094]\n",
      "Round: 199, regret: [37.66828713 24.64099823]\n",
      "Round: 299, regret: [58.93354557 36.10768786]\n",
      "Round: 399, regret: [77.45017568 46.88279199]\n",
      "Round: 499, regret: [81.70838523 48.89332978]\n",
      "Round: 599, regret: [82.43669935 50.10235767]\n",
      "Round: 699, regret: [83.03350416 50.67347368]\n",
      "Round: 799, regret: [83.87330566 50.83829545]\n",
      "Round: 899, regret: [85.14033042 51.62205768]\n",
      "Round: 999, regret: [86.24342289 52.5064025 ]\n",
      "Round: 1099, regret: [86.75498069 53.3425346 ]\n",
      "Round: 1199, regret: [87.7558869  54.10167174]\n",
      "Round: 1299, regret: [89.05051301 54.54522292]\n",
      "Round: 1399, regret: [89.75199055 54.6794182 ]\n",
      "Round: 1499, regret: [90.84463324 54.84566109]\n",
      "Round: 1599, regret: [91.88811385 55.50294233]\n",
      "Round: 1699, regret: [92.57110557 56.2049824 ]\n",
      "Round: 1799, regret: [93.1085371  56.72721987]\n",
      "Round: 1899, regret: [93.84047747 57.08038223]\n",
      "Round: 1999, regret: [94.24874523 57.49138101]\n",
      "Round: 2099, regret: [94.93170733 57.54172325]\n",
      "Round: 2199, regret: [95.90610209 57.83055772]\n",
      "Round: 2299, regret: [96.76860443 58.0951166 ]\n",
      "Round: 2399, regret: [97.63631171 58.30507148]\n",
      "Round: 2499, regret: [98.37291479 58.33428761]\n",
      "Round: 2599, regret: [98.96291423 58.76864685]\n",
      "Round: 2699, regret: [99.52776023 59.59319452]\n",
      "Round: 2799, regret: [100.22548651  59.71981677]\n",
      "Round: 2899, regret: [100.94574887  60.81360656]\n",
      "Round: 2999, regret: [101.56657844  60.82824433]\n"
     ]
    }
   ],
   "source": [
    "T = 3000\n",
    "R = np.zeros((len(pl),))\n",
    "epsilon = 5 * d**(2/3) * (T)**(-1/3)\n",
    "\n",
    "env.reset()\n",
    "alg.reset()\n",
    "\n",
    "for t in range(T): \n",
    "    X = env.observe_context(num_arms=K, verbose=0)\n",
    "    a_t = alg.take_action(X, epsilon=epsilon, alpha=.1)\n",
    "\n",
    "    r_t = env.get_reward(X[a_t])\n",
    "    reg_t = env.regret(X[a_t])\n",
    "    alg.update_params(arm=X[a_t], reward=r_t)\n",
    "\n",
    "    R += reg_t\n",
    "    if (t+1)%100 == 0: print('Round: {:d}, regret: {}'.format(t, R))"
   ]
  },
  {
   "cell_type": "markdown",
   "metadata": {},
   "source": [
    "## Example for MOSLB-PC\n",
    "Running with five objectives under MPL-PC relation $\\{\\{0,1\\},\\{2,3,4\\}\\}$."
   ]
  },
  {
   "cell_type": "code",
   "execution_count": 12,
   "metadata": {},
   "outputs": [],
   "source": [
    "from oracle import simulator_moslb_pc\n",
    "from moslb import moslb_pc"
   ]
  },
  {
   "cell_type": "code",
   "execution_count": 13,
   "metadata": {},
   "outputs": [],
   "source": [
    "pc = [[0,1],[2,3,4]]"
   ]
  },
  {
   "cell_type": "code",
   "execution_count": 14,
   "metadata": {},
   "outputs": [],
   "source": [
    "env = simulator_moslb_pc(num_dim=d,priority_chain=pc,vary_context=True)\n",
    "env.reset()"
   ]
  },
  {
   "cell_type": "code",
   "execution_count": 15,
   "metadata": {},
   "outputs": [],
   "source": [
    "alg = moslb_pc(num_dim=d, priority_chain=pc)"
   ]
  },
  {
   "cell_type": "code",
   "execution_count": 16,
   "metadata": {},
   "outputs": [
    {
     "name": "stdout",
     "output_type": "stream",
     "text": [
      "Round: 99, regret: [17.55 22.75  8.65]\n",
      "Round: 199, regret: [36.21 53.8  20.38]\n",
      "Round: 299, regret: [54.58 85.5  31.99]\n",
      "Round: 399, regret: [ 76.32 112.8   48.12]\n",
      "Round: 499, regret: [ 81.22 119.06  50.62]\n",
      "Round: 599, regret: [ 83.42 124.48  53.08]\n",
      "Round: 699, regret: [ 85.04 125.7   54.64]\n",
      "Round: 799, regret: [ 86.13 127.79  57.59]\n",
      "Round: 899, regret: [ 87.6  129.02  58.6 ]\n",
      "Round: 999, regret: [ 88.6  130.47  59.89]\n",
      "Round: 1099, regret: [ 90.05 131.59  60.51]\n",
      "Round: 1199, regret: [ 92.03 134.46  62.45]\n",
      "Round: 1299, regret: [ 93.67 135.22  63.44]\n",
      "Round: 1399, regret: [ 95.6  138.48  65.  ]\n",
      "Round: 1499, regret: [ 96.82 139.94  66.74]\n",
      "Round: 1599, regret: [ 97.92 140.22  67.31]\n",
      "Round: 1699, regret: [ 99.21 142.12  68.62]\n",
      "Round: 1799, regret: [100.61 143.97  70.81]\n",
      "Round: 1899, regret: [101.69 144.72  71.49]\n",
      "Round: 1999, regret: [102.34 145.04  72.75]\n",
      "Round: 2099, regret: [103.25 145.63  74.18]\n",
      "Round: 2199, regret: [103.96 145.94  76.61]\n",
      "Round: 2299, regret: [104.88 146.31  78.86]\n",
      "Round: 2399, regret: [105.45 146.33  80.17]\n",
      "Round: 2499, regret: [106.28 147.19  81.03]\n",
      "Round: 2599, regret: [106.7  147.29  82.32]\n",
      "Round: 2699, regret: [107.13 147.69  83.32]\n",
      "Round: 2799, regret: [107.49 148.01  83.99]\n",
      "Round: 2899, regret: [107.96 148.67  85.92]\n",
      "Round: 2999, regret: [108.28 149.07  85.92]\n"
     ]
    }
   ],
   "source": [
    "T = 3000\n",
    "R = np.zeros((env.c_max,))\n",
    "epsilon = 5 * d**(2/3) * (T)**(-1/3)\n",
    "\n",
    "env.reset()\n",
    "alg.reset()\n",
    "\n",
    "for t in range(T): \n",
    "    X = env.observe_context(num_arms=K, verbose=0)\n",
    "    a_t = alg.take_action(X, epsilon=epsilon, alpha=.1)\n",
    "\n",
    "    r_t = env.get_reward(X[a_t])\n",
    "    reg_t = env.regret(X[a_t])\n",
    "    alg.update_params(arm=X[a_t], reward=r_t)\n",
    "\n",
    "    R += reg_t\n",
    "    if (t+1)%100 == 0: print('Round: {:d}, regret: {}'.format(t, R))"
   ]
  },
  {
   "cell_type": "code",
   "execution_count": null,
   "metadata": {},
   "outputs": [],
   "source": []
  }
 ],
 "metadata": {
  "kernelspec": {
   "display_name": "cs5489",
   "language": "python",
   "name": "python3"
  },
  "language_info": {
   "codemirror_mode": {
    "name": "ipython",
    "version": 3
   },
   "file_extension": ".py",
   "mimetype": "text/x-python",
   "name": "python",
   "nbconvert_exporter": "python",
   "pygments_lexer": "ipython3",
   "version": "3.8.0"
  }
 },
 "nbformat": 4,
 "nbformat_minor": 2
}
