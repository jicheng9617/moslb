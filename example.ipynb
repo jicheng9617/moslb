{
 "cells": [
  {
   "cell_type": "code",
   "execution_count": 1,
   "metadata": {},
   "outputs": [],
   "source": [
    "import numpy as np \n",
    "\n",
    "from oracle import simulator_moslb\n",
    "from moslb import moslb"
   ]
  },
  {
   "cell_type": "code",
   "execution_count": 2,
   "metadata": {},
   "outputs": [],
   "source": [
    "m = 3 # number of objectives\n",
    "d = 5 # number of context's dimension\n",
    "K = 5 * d # number of arms at each round"
   ]
  },
  {
   "cell_type": "code",
   "execution_count": 3,
   "metadata": {},
   "outputs": [],
   "source": [
    "env = simulator_moslb(num_obj=m,num_dim=d,num_arm=K,vary_context=0)\n",
    "env.reset()"
   ]
  },
  {
   "cell_type": "code",
   "execution_count": 4,
   "metadata": {},
   "outputs": [],
   "source": [
    "alg = moslb(num_dim=d, num_obj=m)\n",
    "alg.reset()"
   ]
  },
  {
   "cell_type": "code",
   "execution_count": 5,
   "metadata": {},
   "outputs": [
    {
     "name": "stdout",
     "output_type": "stream",
     "text": [
      "{'#arms': 25,\n",
      " '#dimension': 5,\n",
      " '#objective': 3,\n",
      " '#optimal arms': 15,\n",
      " 'Regret for each arm': array([[0.04512397],\n",
      "       [0.00994648],\n",
      "       [0.0963327 ],\n",
      "       [0.01014306],\n",
      "       [0.        ],\n",
      "       [0.11234802],\n",
      "       [0.        ],\n",
      "       [0.        ],\n",
      "       [0.        ],\n",
      "       [0.        ],\n",
      "       [0.1391167 ],\n",
      "       [0.        ],\n",
      "       [0.        ],\n",
      "       [0.05376203],\n",
      "       [0.        ],\n",
      "       [0.        ],\n",
      "       [0.        ],\n",
      "       [0.        ],\n",
      "       [0.        ],\n",
      "       [0.06783539],\n",
      "       [0.03070243],\n",
      "       [0.        ],\n",
      "       [0.06805697],\n",
      "       [0.        ],\n",
      "       [0.        ]])}\n",
      "Round: 99, regret: 1.3390\n",
      "Round: 199, regret: 3.8230\n",
      "Round: 299, regret: 6.0117\n",
      "Round: 399, regret: 7.4920\n",
      "Round: 499, regret: 8.5995\n",
      "Round: 599, regret: 9.5644\n",
      "Round: 699, regret: 11.1301\n",
      "Round: 799, regret: 12.3341\n",
      "Round: 899, regret: 13.1210\n",
      "Round: 999, regret: 13.9562\n"
     ]
    }
   ],
   "source": [
    "T = 1000\n",
    "R = 0 \n",
    "R_his = [0]\n",
    "\n",
    "for t in range(T): \n",
    "    X = env.observe_context(verbose=1)\n",
    "    a_t = alg.take_action(X, alpha=.1)\n",
    "\n",
    "    r_t = env.get_reward(a_t)\n",
    "    reg_t = env.regret(a_t)\n",
    "    alg.update_params(arm_context=X[a_t], reward=r_t)\n",
    "\n",
    "    R += reg_t\n",
    "    R_his.append(R)\n",
    "    if (t+1)%100 == 0: print('Round: {:d}, regret: {:.4f}'.format(t, R))"
   ]
  },
  {
   "cell_type": "code",
   "execution_count": 6,
   "metadata": {},
   "outputs": [
    {
     "data": {
      "text/plain": [
       "[<matplotlib.lines.Line2D at 0x27cdff20640>]"
      ]
     },
     "execution_count": 6,
     "metadata": {},
     "output_type": "execute_result"
    },
    {
     "data": {
      "image/png": "[encoded data removed]",
      "text/plain": [
       "<Figure size 640x480 with 1 Axes>"
      ]
     },
     "metadata": {},
     "output_type": "display_data"
    }
   ],
   "source": [
    "import matplotlib as mpl\n",
    "import matplotlib.pyplot as plt\n",
    "\n",
    "plt.figure()\n",
    "plt.plot(range(T+1), R_his, color='r', linestyle='-', label=\"P-UCB\")"
   ]
  },
  {
   "cell_type": "markdown",
   "metadata": {},
   "source": [
    "## Example for MOSLB-PL\n",
    "Running with five objectives under MPL-PL order $\\{\\{0,1,2\\},\\{3,4\\}\\}$."
   ]
  },
  {
   "cell_type": "code",
   "execution_count": 7,
   "metadata": {},
   "outputs": [],
   "source": [
    "from oracle import simulator_moslb_pl\n",
    "from moslb import moslb_pl"
   ]
  },
  {
   "cell_type": "code",
   "execution_count": 8,
   "metadata": {},
   "outputs": [],
   "source": [
    "pl = [[0,1,2],[3,4]]"
   ]
  },
  {
   "cell_type": "code",
   "execution_count": 9,
   "metadata": {},
   "outputs": [],
   "source": [
    "env = simulator_moslb_pl(num_dim=d,priority_level=pl,num_arm=K,vary_context=1)"
   ]
  },
  {
   "cell_type": "code",
   "execution_count": 10,
   "metadata": {},
   "outputs": [],
   "source": [
    "alg = moslb_pl(num_dim=d, priority_level=pl)"
   ]
  },
  {
   "cell_type": "code",
   "execution_count": 11,
   "metadata": {},
   "outputs": [
    {
     "name": "stdout",
     "output_type": "stream",
     "text": [
      "Round: 99, regret: [14.0575653   7.08131146]\n",
      "Round: 199, regret: [26.05804179 18.39408741]\n",
      "Round: 299, regret: [38.33923851 28.46861845]\n",
      "Round: 399, regret: [51.8116317  39.36742602]\n",
      "Round: 499, regret: [53.09256876 40.82992165]\n",
      "Round: 599, regret: [53.23188697 41.69596319]\n",
      "Round: 699, regret: [53.34021291 42.95905153]\n",
      "Round: 799, regret: [53.57866965 43.95592698]\n",
      "Round: 899, regret: [53.70836077 45.72598772]\n",
      "Round: 999, regret: [53.77276717 49.03710248]\n",
      "Round: 1099, regret: [53.88283845 50.08143932]\n",
      "Round: 1199, regret: [53.92982545 51.78005266]\n",
      "Round: 1299, regret: [54.2315067  52.64498133]\n",
      "Round: 1399, regret: [54.32084707 54.1533472 ]\n",
      "Round: 1499, regret: [54.79651892 56.10877167]\n",
      "Round: 1599, regret: [55.01059483 57.73820309]\n",
      "Round: 1699, regret: [55.27893007 59.806694  ]\n",
      "Round: 1799, regret: [55.77443216 60.80617301]\n",
      "Round: 1899, regret: [56.13581657 61.8134323 ]\n",
      "Round: 1999, regret: [56.1995011  63.95197434]\n",
      "Round: 2099, regret: [56.38861591 66.14960813]\n",
      "Round: 2199, regret: [56.49991936 68.33564324]\n",
      "Round: 2299, regret: [56.60629071 70.73952985]\n",
      "Round: 2399, regret: [56.74035185 73.25243621]\n",
      "Round: 2499, regret: [56.92232214 74.83641729]\n",
      "Round: 2599, regret: [57.31336495 77.5049044 ]\n",
      "Round: 2699, regret: [57.66250169 79.57276661]\n",
      "Round: 2799, regret: [57.74617198 82.10863084]\n",
      "Round: 2899, regret: [58.08784034 83.34095165]\n",
      "Round: 2999, regret: [58.20826184 86.63383763]\n"
     ]
    }
   ],
   "source": [
    "T = 3000\n",
    "R = np.zeros((len(pl),))\n",
    "epsilon = 5 * d**(2/3) * (T)**(-1/3)\n",
    "\n",
    "env.reset()\n",
    "alg.reset()\n",
    "\n",
    "for t in range(T): \n",
    "    X = env.observe_context(verbose=0)\n",
    "    a_t = alg.take_action(X, epsilon=epsilon, alpha=.1)\n",
    "\n",
    "    r_t = env.get_reward(a_t)\n",
    "    reg_t = env.regret(a_t)\n",
    "    alg.update_params(arm_context=X[a_t], reward=r_t)\n",
    "\n",
    "    R += reg_t\n",
    "    if (t+1)%100 == 0: print('Round: {:d}, regret: {}'.format(t, R))"
   ]
  },
  {
   "cell_type": "markdown",
   "metadata": {},
   "source": [
    "## Example for MOSLB-PC\n",
    "Running with five objectives under MPL-PC relation $\\{\\{0,1\\},\\{2,3,4\\}\\}$."
   ]
  },
  {
   "cell_type": "code",
   "execution_count": 12,
   "metadata": {},
   "outputs": [],
   "source": [
    "from oracle import simulator_moslb_pc\n",
    "from moslb import moslb_pc"
   ]
  },
  {
   "cell_type": "code",
   "execution_count": 13,
   "metadata": {},
   "outputs": [],
   "source": [
    "pc = [[0,1],[2,3,4]]"
   ]
  },
  {
   "cell_type": "code",
   "execution_count": 14,
   "metadata": {},
   "outputs": [],
   "source": [
    "env = simulator_moslb_pc(num_dim=d,priority_chain=pc,num_arm=K,vary_context=True)\n",
    "env.reset()"
   ]
  },
  {
   "cell_type": "code",
   "execution_count": 15,
   "metadata": {},
   "outputs": [],
   "source": [
    "alg = moslb_pc(num_dim=d, priority_chain=pc)"
   ]
  },
  {
   "cell_type": "code",
   "execution_count": 16,
   "metadata": {},
   "outputs": [
    {
     "name": "stdout",
     "output_type": "stream",
     "text": [
      "Round: 99, regret: [34.8  31.43  4.92]\n",
      "Round: 199, regret: [73.59 68.07 11.66]\n",
      "Round: 299, regret: [112.25 103.93  17.21]\n",
      "Round: 399, regret: [147.75 127.47  28.59]\n",
      "Round: 499, regret: [151.39 133.19  28.59]\n",
      "Round: 599, regret: [154.75 138.47  28.59]\n",
      "Round: 699, regret: [158.83 144.41  28.59]\n",
      "Round: 799, regret: [162.78 150.25  28.97]\n",
      "Round: 899, regret: [163.95 151.35  29.35]\n",
      "Round: 999, regret: [164.02 151.46  29.35]\n",
      "Round: 1099, regret: [164.38 151.79  29.35]\n",
      "Round: 1199, regret: [167.05 152.56  29.73]\n",
      "Round: 1299, regret: [167.05 152.56  29.73]\n",
      "Round: 1399, regret: [167.17 153.12  29.73]\n",
      "Round: 1499, regret: [167.17 153.12  29.73]\n",
      "Round: 1599, regret: [167.64 153.12  30.11]\n",
      "Round: 1699, regret: [167.64 153.12  30.11]\n",
      "Round: 1799, regret: [167.76 153.68  30.11]\n",
      "Round: 1899, regret: [167.76 153.68  30.11]\n",
      "Round: 1999, regret: [168.23 153.68  30.49]\n",
      "Round: 2099, regret: [168.23 153.68  30.49]\n",
      "Round: 2199, regret: [168.23 153.68  30.49]\n",
      "Round: 2299, regret: [168.82 154.24  30.87]\n",
      "Round: 2399, regret: [168.82 154.24  30.87]\n",
      "Round: 2499, regret: [168.82 154.24  30.87]\n",
      "Round: 2599, regret: [168.82 154.24  30.87]\n",
      "Round: 2699, regret: [168.82 154.24  30.87]\n",
      "Round: 2799, regret: [169.41 154.8   31.25]\n",
      "Round: 2899, regret: [169.41 154.8   31.25]\n",
      "Round: 2999, regret: [169.41 154.8   31.25]\n"
     ]
    }
   ],
   "source": [
    "T = 3000\n",
    "R = np.zeros((env.c_max,))\n",
    "epsilon = 5 * d**(2/3) * (T)**(-1/3)\n",
    "\n",
    "env.reset()\n",
    "alg.reset()\n",
    "\n",
    "for t in range(T): \n",
    "    X = env.observe_context(verbose=0)\n",
    "    a_t = alg.take_action(X, epsilon=epsilon, alpha=.1)\n",
    "\n",
    "    r_t = env.get_reward(a_t)\n",
    "    reg_t = env.regret(a_t)\n",
    "    alg.update_params(arm_context=X[a_t], reward=r_t)\n",
    "\n",
    "    R += reg_t\n",
    "    if (t+1)%100 == 0: print('Round: {:d}, regret: {}'.format(t, R))"
   ]
  },
  {
   "cell_type": "code",
   "execution_count": null,
   "metadata": {},
   "outputs": [],
   "source": []
  }
 ],
 "metadata": {
  "kernelspec": {
   "display_name": "cs5489",
   "language": "python",
   "name": "python3"
  },
  "language_info": {
   "codemirror_mode": {
    "name": "ipython",
    "version": 3
   },
   "file_extension": ".py",
   "mimetype": "text/x-python",
   "name": "python",
   "nbconvert_exporter": "python",
   "pygments_lexer": "ipython3",
   "version": "3.9.15"
  }
 },
 "nbformat": 4,
 "nbformat_minor": 2
}
