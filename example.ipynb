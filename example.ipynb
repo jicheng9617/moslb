{
 "cells": [
  {
   "cell_type": "code",
   "execution_count": 1,
   "metadata": {},
   "outputs": [],
   "source": [
    "import numpy as np \n",
    "\n",
    "from oracle import simulator_moslb\n",
    "from moslb import moslb"
   ]
  },
  {
   "cell_type": "code",
   "execution_count": 2,
   "metadata": {},
   "outputs": [],
   "source": [
    "m = 3 # number of objectives\n",
    "d = 5 # number of context's dimension\n",
    "K = 5 * d # number of arms at each round"
   ]
  },
  {
   "cell_type": "code",
   "execution_count": 3,
   "metadata": {},
   "outputs": [],
   "source": [
    "env = simulator_moslb(num_obj=m,num_dim=d,num_arm=K,vary_context=0)\n",
    "env.reset()"
   ]
  },
  {
   "cell_type": "code",
   "execution_count": 4,
   "metadata": {},
   "outputs": [],
   "source": [
    "alg = moslb(num_dim=d, num_obj=m)\n",
    "alg.reset()"
   ]
  },
  {
   "cell_type": "code",
   "execution_count": 5,
   "metadata": {},
   "outputs": [
    {
     "name": "stdout",
     "output_type": "stream",
     "text": [
      "{'#arms': 25,\n",
      " '#dimension': 5,\n",
      " '#objective': 3,\n",
      " '#optimal arms': 11,\n",
      " 'Regret for each arm': array([[0.10703346],\n",
      "       [0.24042706],\n",
      "       [0.21441258],\n",
      "       [0.32345093],\n",
      "       [0.        ],\n",
      "       [0.2240112 ],\n",
      "       [0.        ],\n",
      "       [0.11497998],\n",
      "       [0.        ],\n",
      "       [0.04665695],\n",
      "       [0.        ],\n",
      "       [0.        ],\n",
      "       [0.        ],\n",
      "       [0.16490191],\n",
      "       [0.        ],\n",
      "       [0.        ],\n",
      "       [0.        ],\n",
      "       [0.0285683 ],\n",
      "       [0.        ],\n",
      "       [0.13621852],\n",
      "       [0.        ],\n",
      "       [0.12311157],\n",
      "       [0.00966445],\n",
      "       [0.17588235],\n",
      "       [0.1701852 ]])}\n",
      "Round: 99, regret: 2.6124\n",
      "Round: 199, regret: 3.3719\n",
      "Round: 299, regret: 4.2754\n",
      "Round: 399, regret: 4.4496\n",
      "Round: 499, regret: 4.5068\n",
      "Round: 599, regret: 4.5068\n",
      "Round: 699, regret: 6.0652\n",
      "Round: 799, regret: 8.3017\n",
      "Round: 899, regret: 8.9816\n",
      "Round: 999, regret: 9.5456\n"
     ]
    }
   ],
   "source": [
    "T = 1000\n",
    "R = 0 \n",
    "R_his = [0]\n",
    "\n",
    "for t in range(T): \n",
    "    X = env.observe_context(verbose=1)\n",
    "    a_t = alg.take_action(X, alpha=.1)\n",
    "\n",
    "    r_t = env.get_reward(a_t)\n",
    "    reg_t = env.regret(a_t)\n",
    "    alg.update_params(arm=X[a_t], reward=r_t)\n",
    "\n",
    "    R += reg_t\n",
    "    R_his.append(R)\n",
    "    if (t+1)%100 == 0: print('Round: {:d}, regret: {:.4f}'.format(t, R))"
   ]
  },
  {
   "cell_type": "code",
   "execution_count": 6,
   "metadata": {},
   "outputs": [
    {
     "data": {
      "text/plain": [
       "[<matplotlib.lines.Line2D at 0x29cc29e7850>]"
      ]
     },
     "execution_count": 6,
     "metadata": {},
     "output_type": "execute_result"
    },
    {
     "data": {
      "image/png": "[encoded data removed]",
      "text/plain": [
       "<Figure size 640x480 with 1 Axes>"
      ]
     },
     "metadata": {},
     "output_type": "display_data"
    }
   ],
   "source": [
    "import matplotlib as mpl\n",
    "import matplotlib.pyplot as plt\n",
    "\n",
    "plt.figure()\n",
    "plt.plot(range(T+1), R_his, color='r', linestyle='-', label=\"P-UCB\")"
   ]
  },
  {
   "cell_type": "markdown",
   "metadata": {},
   "source": [
    "## Example for MOSLB-PL\n",
    "Running with five objectives under MPL-PL order $\\{\\{0,1,2\\},\\{3,4\\}\\}$."
   ]
  },
  {
   "cell_type": "code",
   "execution_count": 7,
   "metadata": {},
   "outputs": [],
   "source": [
    "from oracle import simulator_moslb_pl\n",
    "from moslb import moslb_pl"
   ]
  },
  {
   "cell_type": "code",
   "execution_count": 8,
   "metadata": {},
   "outputs": [],
   "source": [
    "pl = [[0,1,2],[3,4]]"
   ]
  },
  {
   "cell_type": "code",
   "execution_count": 9,
   "metadata": {},
   "outputs": [],
   "source": [
    "env = simulator_moslb_pl(num_dim=d,priority_level=pl,num_arm=K,vary_context=1)"
   ]
  },
  {
   "cell_type": "code",
   "execution_count": 10,
   "metadata": {},
   "outputs": [],
   "source": [
    "alg = moslb_pl(num_dim=d, priority_level=pl)"
   ]
  },
  {
   "cell_type": "code",
   "execution_count": 11,
   "metadata": {},
   "outputs": [
    {
     "name": "stdout",
     "output_type": "stream",
     "text": [
      "Round: 99, regret: [10.46704447  4.93000229]\n",
      "Round: 199, regret: [18.84978107 10.97104782]\n",
      "Round: 299, regret: [28.30183328 16.46731616]\n",
      "Round: 399, regret: [37.8352099  24.73917367]\n",
      "Round: 499, regret: [39.40723782 27.11853818]\n",
      "Round: 599, regret: [40.3246316  28.20882702]\n",
      "Round: 699, regret: [40.81097709 29.11912417]\n",
      "Round: 799, regret: [41.07877629 29.7497952 ]\n",
      "Round: 899, regret: [41.60000745 30.37707559]\n",
      "Round: 999, regret: [41.92933144 31.483359  ]\n",
      "Round: 1099, regret: [42.20180864 33.11217866]\n",
      "Round: 1199, regret: [42.57879491 33.68631089]\n",
      "Round: 1299, regret: [43.00331133 35.06865817]\n",
      "Round: 1399, regret: [43.39309547 35.51953484]\n",
      "Round: 1499, regret: [43.68738913 36.07595446]\n",
      "Round: 1599, regret: [43.98476118 36.88451335]\n",
      "Round: 1699, regret: [44.03247898 37.83264066]\n",
      "Round: 1799, regret: [44.27253578 38.55492708]\n",
      "Round: 1899, regret: [44.4517525  39.31349927]\n",
      "Round: 1999, regret: [44.60140458 39.46529686]\n",
      "Round: 2099, regret: [44.6718014  40.08627253]\n",
      "Round: 2199, regret: [45.0248856  40.89441092]\n",
      "Round: 2299, regret: [45.17830101 41.50466116]\n",
      "Round: 2399, regret: [45.44079332 42.37948032]\n",
      "Round: 2499, regret: [45.60934966 42.99130673]\n",
      "Round: 2599, regret: [45.81785291 43.27503958]\n",
      "Round: 2699, regret: [46.06656581 43.47407674]\n",
      "Round: 2799, regret: [46.22115836 43.87978776]\n",
      "Round: 2899, regret: [46.31234887 44.36274097]\n",
      "Round: 2999, regret: [46.36473521 44.64100399]\n"
     ]
    }
   ],
   "source": [
    "T = 3000\n",
    "R = np.zeros((len(pl),))\n",
    "epsilon = 5 * d**(2/3) * (T)**(-1/3)\n",
    "\n",
    "env.reset()\n",
    "alg.reset()\n",
    "\n",
    "for t in range(T): \n",
    "    X = env.observe_context(verbose=0)\n",
    "    a_t = alg.take_action(X, epsilon=epsilon, alpha=.1)\n",
    "\n",
    "    r_t = env.get_reward(a_t)\n",
    "    reg_t = env.regret(a_t)\n",
    "    alg.update_params(arm=X[a_t], reward=r_t)\n",
    "\n",
    "    R += reg_t\n",
    "    if (t+1)%100 == 0: print('Round: {:d}, regret: {}'.format(t, R))"
   ]
  },
  {
   "cell_type": "markdown",
   "metadata": {},
   "source": [
    "## Example for MOSLB-PC\n",
    "Running with five objectives under MPL-PC relation $\\{\\{0,1\\},\\{2,3,4\\}\\}$."
   ]
  },
  {
   "cell_type": "code",
   "execution_count": 12,
   "metadata": {},
   "outputs": [],
   "source": [
    "from oracle import simulator_moslb_pc\n",
    "from moslb import moslb_pc"
   ]
  },
  {
   "cell_type": "code",
   "execution_count": 13,
   "metadata": {},
   "outputs": [],
   "source": [
    "pc = [[0,1],[2,3,4]]"
   ]
  },
  {
   "cell_type": "code",
   "execution_count": 14,
   "metadata": {},
   "outputs": [],
   "source": [
    "env = simulator_moslb_pc(num_dim=d,priority_chain=pc,num_arm=K,vary_context=True)\n",
    "env.reset()"
   ]
  },
  {
   "cell_type": "code",
   "execution_count": 15,
   "metadata": {},
   "outputs": [],
   "source": [
    "alg = moslb_pc(num_dim=d, priority_chain=pc)"
   ]
  },
  {
   "cell_type": "code",
   "execution_count": 16,
   "metadata": {},
   "outputs": [
    {
     "name": "stdout",
     "output_type": "stream",
     "text": [
      "Round: 99, regret: [3.13 1.04 2.13]\n",
      "Round: 199, regret: [6.36 2.08 3.64]\n",
      "Round: 299, regret: [9.74 3.64 5.84]\n",
      "Round: 399, regret: [12.51  3.64  9.8 ]\n",
      "Round: 499, regret: [13.56  3.64  9.8 ]\n",
      "Round: 599, regret: [13.56  3.64  9.8 ]\n",
      "Round: 699, regret: [13.56  3.64  9.8 ]\n",
      "Round: 799, regret: [13.63  3.64  9.8 ]\n",
      "Round: 899, regret: [13.63  3.64  9.8 ]\n",
      "Round: 999, regret: [14.1   3.64 10.68]\n",
      "Round: 1099, regret: [17.03  3.64 17.06]\n",
      "Round: 1199, regret: [20.03  3.64 23.66]\n",
      "Round: 1299, regret: [22.28  3.64 28.61]\n",
      "Round: 1399, regret: [24.58  3.64 33.67]\n",
      "Round: 1499, regret: [27.08  3.64 39.17]\n",
      "Round: 1599, regret: [29.48  3.64 44.45]\n",
      "Round: 1699, regret: [32.35  3.64 50.61]\n",
      "Round: 1799, regret: [34.95  3.64 56.33]\n",
      "Round: 1899, regret: [37.4   3.64 61.72]\n",
      "Round: 1999, regret: [39.75  3.64 66.89]\n",
      "Round: 2099, regret: [40.1   3.64 67.66]\n",
      "Round: 2199, regret: [40.1   3.64 67.66]\n",
      "Round: 2299, regret: [40.1   3.64 67.66]\n",
      "Round: 2399, regret: [40.17  3.64 67.66]\n",
      "Round: 2499, regret: [40.17  3.64 67.66]\n",
      "Round: 2599, regret: [40.2   3.64 67.66]\n",
      "Round: 2699, regret: [40.2   3.64 67.66]\n",
      "Round: 2799, regret: [40.2   3.64 67.66]\n",
      "Round: 2899, regret: [40.2   3.64 67.66]\n",
      "Round: 2999, regret: [40.43  3.64 67.88]\n"
     ]
    }
   ],
   "source": [
    "T = 3000\n",
    "R = np.zeros((env.c_max,))\n",
    "epsilon = 5 * d**(2/3) * (T)**(-1/3)\n",
    "\n",
    "env.reset()\n",
    "alg.reset()\n",
    "\n",
    "for t in range(T): \n",
    "    X = env.observe_context(verbose=0)\n",
    "    a_t = alg.take_action(X, epsilon=epsilon, alpha=.1)\n",
    "\n",
    "    r_t = env.get_reward(a_t)\n",
    "    reg_t = env.regret(a_t)\n",
    "    alg.update_params(arm=X[a_t], reward=r_t)\n",
    "\n",
    "    R += reg_t\n",
    "    if (t+1)%100 == 0: print('Round: {:d}, regret: {}'.format(t, R))"
   ]
  },
  {
   "cell_type": "code",
   "execution_count": null,
   "metadata": {},
   "outputs": [],
   "source": []
  }
 ],
 "metadata": {
  "kernelspec": {
   "display_name": "cs5489",
   "language": "python",
   "name": "python3"
  },
  "language_info": {
   "codemirror_mode": {
    "name": "ipython",
    "version": 3
   },
   "file_extension": ".py",
   "mimetype": "text/x-python",
   "name": "python",
   "nbconvert_exporter": "python",
   "pygments_lexer": "ipython3",
   "version": "3.8.0"
  }
 },
 "nbformat": 4,
 "nbformat_minor": 2
}
